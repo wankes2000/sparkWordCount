{
 "cells": [
  {
   "cell_type": "code",
   "execution_count": 20,
   "metadata": {
    "collapsed": true
   },
   "outputs": [],
   "source": [
    "import re"
   ]
  },
  {
   "cell_type": "code",
   "execution_count": 21,
   "metadata": {
    "collapsed": true
   },
   "outputs": [],
   "source": [
    "lines = sc.textFile(\"2donq10.txt\").cache();"
   ]
  },
  {
   "cell_type": "code",
   "execution_count": 29,
   "metadata": {
    "collapsed": false
   },
   "outputs": [
    {
     "name": "stdout",
     "output_type": "stream",
     "text": [
      "428132\n"
     ]
    }
   ],
   "source": [
    "counts = lines.flatMap(lambda x: re.split('\\W+',x)) \\\n",
    "                  .map(lambda x: 1) \\\n",
    "                  .reduce(lambda x, y: x + y)\n",
    "print(counts)"
   ]
  },
  {
   "cell_type": "code",
   "execution_count": 30,
   "metadata": {
    "collapsed": false
   },
   "outputs": [
    {
     "name": "stdout",
     "output_type": "stream",
     "text": [
      "20796\n"
     ]
    }
   ],
   "source": [
    "counts = lines.flatMap(lambda x: re.split('\\W+',x)) \\\n",
    "                  .map(lambda x: (x.lower(), 1)) \\\n",
    "                  .reduceByKey(lambda x, y: x + y)\n",
    "print(counts.count())"
   ]
  },
  {
   "cell_type": "code",
   "execution_count": 27,
   "metadata": {
    "collapsed": false
   },
   "outputs": [
    {
     "name": "stdout",
     "output_type": "stream",
     "text": [
      "[(u'que', 20628), (u'', 19448), (u'de', 18215), (u'y', 18190), (u'a', 15208)]\n"
     ]
    }
   ],
   "source": [
    "counts = lines.flatMap(lambda x: re.split('\\W+',x)) \\\n",
    "                  .map(lambda x: (x.lower(), 1)) \\\n",
    "                  .reduceByKey(lambda x, y: x + y)\n",
    "print(counts.takeOrdered(5, key=lambda x: -x[1]))"
   ]
  },
  {
   "cell_type": "code",
   "execution_count": 26,
   "metadata": {
    "collapsed": false
   },
   "outputs": [
    {
     "name": "stdout",
     "output_type": "stream",
     "text": [
      "[(u'como', 2264), (u'quijote', 2178), (u'sancho', 2148), (u'dijo', 1808), (u'para', 1465)]\n"
     ]
    }
   ],
   "source": [
    "counts = lines.flatMap(lambda x: re.split('\\W+',x)) \\\n",
    "                  .map(lambda x: (x.lower(), 1)) \\\n",
    "                  .filter(lambda x: len(x[0])>3) \\\n",
    "                  .reduceByKey(lambda x, y: x + y)\n",
    "print(counts.takeOrdered(5, key=lambda x: -x[1]))\n"
   ]
  },
  {
   "cell_type": "code",
   "execution_count": 25,
   "metadata": {
    "collapsed": false
   },
   "outputs": [
    {
     "name": "stdout",
     "output_type": "stream",
     "text": [
      "(u'dulcinea', 282)\n"
     ]
    }
   ],
   "source": [
    "counts = lines.flatMap(lambda x: re.split('\\W+',x)) \\\n",
    "                  .map(lambda x: (x.lower(), 1)) \\\n",
    "                  .filter(lambda x: x[0] == 'dulcinea') \\\n",
    "                  .reduceByKey(lambda x, y: x + y)\n",
    "print(counts.first())\n",
    "\n"
   ]
  },
  {
   "cell_type": "code",
   "execution_count": null,
   "metadata": {
    "collapsed": true
   },
   "outputs": [],
   "source": []
  }
 ],
 "metadata": {
  "kernelspec": {
   "display_name": "Python 2",
   "language": "python",
   "name": "python2"
  },
  "language_info": {
   "codemirror_mode": {
    "name": "ipython",
    "version": 2
   },
   "file_extension": ".py",
   "mimetype": "text/x-python",
   "name": "python",
   "nbconvert_exporter": "python",
   "pygments_lexer": "ipython2",
   "version": "2.7.6"
  }
 },
 "nbformat": 4,
 "nbformat_minor": 0
}
